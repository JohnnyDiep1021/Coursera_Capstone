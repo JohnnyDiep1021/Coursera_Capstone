{
 "cells": [
  {
   "cell_type": "code",
   "execution_count": 4,
   "metadata": {},
   "outputs": [
    {
     "data": {
      "text/plain": [
       "(0.8499999999999996, 9.0)"
      ]
     },
     "execution_count": 4,
     "metadata": {},
     "output_type": "execute_result"
    }
   ],
   "source": [
    "import math\n",
    "math.modf(9.85)"
   ]
  },
  {
   "cell_type": "code",
   "execution_count": 157,
   "metadata": {},
   "outputs": [
    {
     "name": "stdout",
     "output_type": "stream",
     "text": [
      "9.85\n",
      "100000000vnđ\n",
      "9.85\n",
      "100,000,000.23vnđ\n",
      "9.85\n",
      "100,000,000.23vnđ\n",
      "985.35%\n"
     ]
    }
   ],
   "source": [
    "\n",
    "n = 9.8535\n",
    "fiction = 100000000.23124\n",
    "print(\"%.2f\"%(n))\n",
    "print(\"%.1dvnđ\"%(fiction))\n",
    "\n",
    "print(f'{n:.2f}')\n",
    "print(f'{fiction:,.2f}vnđ')\n",
    "\n",
    "print('{:.2f}'.format(n))\n",
    "print('{:,.2f}vnđ'.format(fiction))\n",
    "print('{:.2%}'.format(n))"
   ]
  },
  {
   "cell_type": "code",
   "execution_count": null,
   "metadata": {},
   "outputs": [],
   "source": []
  }
 ],
 "metadata": {
  "kernelspec": {
   "display_name": "Python 3",
   "language": "python",
   "name": "python3"
  },
  "language_info": {
   "codemirror_mode": {
    "name": "ipython",
    "version": 3
   },
   "file_extension": ".py",
   "mimetype": "text/x-python",
   "name": "python",
   "nbconvert_exporter": "python",
   "pygments_lexer": "ipython3",
   "version": "3.9.1"
  }
 },
 "nbformat": 4,
 "nbformat_minor": 4
}
