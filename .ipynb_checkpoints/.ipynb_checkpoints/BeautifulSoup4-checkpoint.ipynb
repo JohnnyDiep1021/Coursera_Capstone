{
 "cells": [
  {
   "cell_type": "code",
   "execution_count": 1,
   "metadata": {},
   "outputs": [],
   "source": [
    "import pandas as pd\n",
    "from bs4 import BeautifulSoup\n",
    "import requests"
   ]
  },
  {
   "cell_type": "code",
   "execution_count": 2,
   "metadata": {},
   "outputs": [],
   "source": [
    "url = 'https://en.wikipedia.org/wiki/List_of_postal_codes_of_Canada:_M'\n",
    "html_file = requests.get(url).text\n",
    "soup = BeautifulSoup(html_file,'html.parser')\n",
    "# print(soup.prettify()) # first look at the original source under the format of html\n",
    "\n",
    "row = soup.find('table').find_all('tr')\n",
    "pc = []\n",
    "borough = []\n",
    "neigh = []\n",
    "# text = []\n",
    "for rows in soup.find('table').find_all('tr'):\n",
    "    cells = rows.find_all('td')\n",
    "    for ele in cells:\n",
    "#         text.append(cells[i].text.strip('\\n'))\n",
    "        text = ele.text.strip('\\n')\n",
    "    \n",
    "#         # Method 1\n",
    "#         check = text[3:].find('Not assigned')\n",
    "#         if check != 0:\n",
    "#             pc.append(text[0:3])\n",
    "#             borough.append(text[3:text.find('(')])\n",
    "#             neigh.append(text[text.find('('):])\n",
    "\n",
    "        # Method 2\n",
    "        if 'Not assigned' not in text:\n",
    "            pc.append(text[0:3])\n",
    "            borough.append(text[3:text.find('(')])\n",
    "            neigh.append(text[text.find('('):])\n",
    "for i in range(0,len(neigh)):\n",
    "#     while '(' in i or ')' in i:\n",
    "    neigh[i] = neigh[i].replace('(',' ')\n",
    "    neigh[i] = neigh[i].replace(')', ' ')\n",
    "    neigh[i] = neigh[i].strip()\n",
    "    if '/' in neigh[i]:\n",
    "        neigh[i] = neigh[i].split('/')\n",
    "        for n in range(0,len(neigh[i])):\n",
    "            neigh[i][n] = neigh[i][n].strip()\n",
    "toronto_df = pd.DataFrame(data = {'Postal Code': pc, 'Borough': borough, 'Neighbourhood': neigh})\n",
    "\n",
    "# Formating some data\n",
    "toronto_df.loc[100,'Borough'] = 'East Toronto'\n",
    "toronto_df.loc[100, 'Neighbourhood'] = 'Business reply mail Processing Centre 969 Eastern (Enclave of M4L)'\n",
    "toronto_df.loc[13,'Neighbourhood'] = 'Don Mills South (Flemingdon Park)'\n",
    "toronto_df.loc[40, 'Neighbourhood'] = 'Downsview East (CFB Toronto)'\n",
    "toronto_df.loc[76, 'Borough'] = 'Mississauga'\n",
    "toronto_df.loc[76, 'Neighbourhood'] = 'Canada Post Gateway Processing Centre (Enclave of L4W)'\n",
    "toronto_df.loc[92, 'Borough'] = 'Downtown Toronto'\n",
    "toronto_df.loc[92, 'Neighbourhood'] = 'Stn A PO Boxes25 The Esplanade (Enclave of M5E)'\n",
    "toronto_df.to_csv('Toronto.csv')"
   ]
  },
  {
   "cell_type": "code",
   "execution_count": 3,
   "metadata": {},
   "outputs": [],
   "source": [
    "# for i in text:\n",
    "#     check = i[3:].find('Not assigned')\n",
    "#     if check != 0:\n",
    "#         pc.append(i[0:3])\n",
    "#         borough.append(i[3:i.find('(')])\n",
    "#         neigh.append(i[i.find('(') + 1:i.rfind(')')])\n",
    "# neigh"
   ]
  },
  {
   "cell_type": "markdown",
   "metadata": {},
   "source": [
    "# Useful material\n",
    "1. [Bs4 template (Neighborhood in Toronto)](https://nbviewer.jupyter.org/github/amanjain6/Coursera_Capstone/blob/3e7aba75b79110fbc85eb6e37983c507d1ce2602/Data%20Science%20Capstone%20week%203.ipynb)\n",
    "\n",
    "2. [Crime Dataset in Canada](https://open.canada.ca/data/en/dataset?q=crime&page=2)\n",
    "\n",
    "3. [Instruction for Bs4](https://www.youtube.com/watch?v=ng2o98k983k)\n"
   ]
  },
  {
   "cell_type": "code",
   "execution_count": null,
   "metadata": {},
   "outputs": [],
   "source": []
  }
 ],
 "metadata": {
  "kernelspec": {
   "display_name": "Python 3",
   "language": "python",
   "name": "python3"
  },
  "language_info": {
   "codemirror_mode": {
    "name": "ipython",
    "version": 3
   },
   "file_extension": ".py",
   "mimetype": "text/x-python",
   "name": "python",
   "nbconvert_exporter": "python",
   "pygments_lexer": "ipython3",
   "version": "3.9.1"
  }
 },
 "nbformat": 4,
 "nbformat_minor": 4
}
