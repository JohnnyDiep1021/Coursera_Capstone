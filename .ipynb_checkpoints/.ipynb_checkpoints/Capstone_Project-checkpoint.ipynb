{
 "cells": [
  {
   "cell_type": "markdown",
   "metadata": {},
   "source": [
    "# Capstone Project - The Battle of Neighborhoods"
   ]
  },
  {
   "cell_type": "markdown",
   "metadata": {},
   "source": [
    "## Introduction/ Business Problem section"
   ]
  },
  {
   "cell_type": "markdown",
   "metadata": {},
   "source": [
    "#### Circumstance: Accommodation problem in London, Ontario.\n",
    "\n",
    "- In this capstone, we reach out to stakeholders who are looking for the most convenient and well-located areas with good public amenities and service in London, Ontario. Specifically, We are going to explore the neighborhoods in London and specify the number of residential areas with a prosperous economy. \n",
    "\n",
    "- Our stakeholders don't know what kind of effective business patterns they should startup, so they also want us to suggest some of the potential economies in the recommended areas. More crucially, the number of influential factors will be **the stakeholder's affordability** for **the cost of living** and **the price of the real estate in the desired areas**. Since we primarily focus on using Foursquare to discover the most ideal living area in this capstone, we will assume these factors are in the available budget of our stakeholders. \n",
    "\n",
    "- Working as a data scientist, we will manipulate the power of data to generate the most feasible and promising neighborhoods based on the listed above criteria. It will be expected that the upsides and downsides will be also comprehensively listed out so that the best deliverables can be used to help our stakeholders make their final decision.\n",
    "\n",
    "- This project will significantly target the potential stakeholders who have a desire to settle down and run their own business in residential areas with good living conditions.\n",
    "\n",
    "**Problem**\n",
    "1. Which area is the best to settle down in London, Ontario?\n",
    "2. How close should the living area be to the surrounded public services?\n",
    "3. What kind of potential business pattern should be recommended?"
   ]
  },
  {
   "cell_type": "markdown",
   "metadata": {},
   "source": [
    "## Data section"
   ]
  },
  {
   "cell_type": "markdown",
   "metadata": {},
   "source": [
    "Based on our defined circumstance, there will be a number of factors that will have impacts on our decision:\n",
    "- The number of neighborhoods that need to be taken a look at in London, Ontario. \n",
    "- The distance from the living areas to the other venues within the neighborhood.\n",
    "- The number of available business patterns within the neighborhood.\n",
    "\n",
    "As listed above, the following data sources will be needed to generate the required information:\n",
    "- The location and coordinates of each neighborhood in London, Ontario will be scraped from **[webage](http://www.geonames.org/postalcode-search.html?q=london&country=CA&adminCode1=ON&fbclid=IwAR2XipWkuSm3F9YSjjVvFqp7SfYCPl9_XaxiehoPnn-7XmsjtnJBrbKh31g)** by using **Pandas function/ BeautifulSoup**.\n",
    "- The number of venues and their categories within each neighborhood are extracted by using **FourSquare API**.\n",
    "- **The extracted venue categories** can be used as a **separated dataset** to build the **recommender system** for the suggestion of business patterns.   "
   ]
  },
  {
   "cell_type": "code",
   "execution_count": null,
   "metadata": {},
   "outputs": [],
   "source": []
  }
 ],
 "metadata": {
  "kernelspec": {
   "display_name": "Python 3",
   "language": "python",
   "name": "python3"
  },
  "language_info": {
   "codemirror_mode": {
    "name": "ipython",
    "version": 3
   },
   "file_extension": ".py",
   "mimetype": "text/x-python",
   "name": "python",
   "nbconvert_exporter": "python",
   "pygments_lexer": "ipython3",
   "version": "3.9.1"
  }
 },
 "nbformat": 4,
 "nbformat_minor": 4
}
