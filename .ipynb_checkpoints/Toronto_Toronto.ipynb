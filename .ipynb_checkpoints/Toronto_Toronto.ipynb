{
 "cells": [
  {
   "cell_type": "markdown",
   "metadata": {},
   "source": [
    "#### Author: DIEP, LY BAO LONG\n",
    "#### Assignment: Segmenting and Clustering Neighborhoods in Toronto.\n",
    "#### Day: 12-03-2021"
   ]
  },
  {
   "cell_type": "code",
   "execution_count": 1,
   "metadata": {},
   "outputs": [],
   "source": [
    "import pandas as pd\n",
    "import numpy as np\n",
    "import requests\n",
    "from pandas.io.json import json_normalize\n",
    "from geopy.geocoders import Nominatim\n",
    "import folium\n",
    "import matplotlib.cm as cm\n",
    "import matplotlib.colors as colors\n",
    "from sklearn.cluster import KMeans"
   ]
  },
  {
   "cell_type": "code",
   "execution_count": 3,
   "metadata": {},
   "outputs": [
    {
     "data": {
      "text/html": [
       "<div>\n",
       "<style scoped>\n",
       "    .dataframe tbody tr th:only-of-type {\n",
       "        vertical-align: middle;\n",
       "    }\n",
       "\n",
       "    .dataframe tbody tr th {\n",
       "        vertical-align: top;\n",
       "    }\n",
       "\n",
       "    .dataframe thead th {\n",
       "        text-align: right;\n",
       "    }\n",
       "</style>\n",
       "<table border=\"1\" class=\"dataframe\">\n",
       "  <thead>\n",
       "    <tr style=\"text-align: right;\">\n",
       "      <th></th>\n",
       "      <th>Postal Code</th>\n",
       "      <th>Borough</th>\n",
       "      <th>Neighbourhood</th>\n",
       "    </tr>\n",
       "  </thead>\n",
       "  <tbody>\n",
       "    <tr>\n",
       "      <th>0</th>\n",
       "      <td>M3A</td>\n",
       "      <td>North York</td>\n",
       "      <td>Parkwoods</td>\n",
       "    </tr>\n",
       "    <tr>\n",
       "      <th>1</th>\n",
       "      <td>M4A</td>\n",
       "      <td>North York</td>\n",
       "      <td>Victoria Village</td>\n",
       "    </tr>\n",
       "    <tr>\n",
       "      <th>2</th>\n",
       "      <td>M5A</td>\n",
       "      <td>Downtown Toronto</td>\n",
       "      <td>['Regent Park', 'Harbourfront']</td>\n",
       "    </tr>\n",
       "    <tr>\n",
       "      <th>3</th>\n",
       "      <td>M6A</td>\n",
       "      <td>North York</td>\n",
       "      <td>['Lawrence Manor', 'Lawrence Heights']</td>\n",
       "    </tr>\n",
       "    <tr>\n",
       "      <th>4</th>\n",
       "      <td>M7A</td>\n",
       "      <td>Queen's Park</td>\n",
       "      <td>Ontario Provincial Government</td>\n",
       "    </tr>\n",
       "  </tbody>\n",
       "</table>\n",
       "</div>"
      ],
      "text/plain": [
       "  Postal Code           Borough                           Neighbourhood\n",
       "0         M3A        North York                               Parkwoods\n",
       "1         M4A        North York                        Victoria Village\n",
       "2         M5A  Downtown Toronto         ['Regent Park', 'Harbourfront']\n",
       "3         M6A        North York  ['Lawrence Manor', 'Lawrence Heights']\n",
       "4         M7A      Queen's Park           Ontario Provincial Government"
      ]
     },
     "execution_count": 3,
     "metadata": {},
     "output_type": "execute_result"
    }
   ],
   "source": [
    "# https://pythonbasics.org/pandas-web-scraping/#:~:text=Pandas%20makes%20it%20easy%20to,Excel%20file%20or%20csv%20file.\n",
    "# url = 'https://en.wikipedia.org/wiki/List_of_postal_codes_of_Canada:_M'\n",
    "# html = pd.read_html(url)\n",
    "# toronto_df = html[0].dropna(subset = ['Borough'])\n",
    "# print(f'Shape: {toronto_df.shape[0]}x{toronto_df.shape[1]}')\n",
    "# toronto_df.head()\n",
    "toronto_df = pd.read_csv('Toronto.csv',index_col = 0)\n",
    "toronto_df.head()"
   ]
  },
  {
   "cell_type": "markdown",
   "metadata": {},
   "source": [
    "#### PERSONAL EVALUATION: First Look at Dataset\n",
    "- To easily scrape the data from a webpage into a pandas DataFrame, we can simply use pandas function (read_html) to do it.\n",
    "- Since there were a lot of rows of Borough and Neighbourhood containing \"Not assigned\" values, we can assign these \"Not assigned\" values as missing/ unavailable values (NaN) at the very begining of scraping the data from Wikipedia."
   ]
  },
  {
   "cell_type": "code",
   "execution_count": null,
   "metadata": {},
   "outputs": [],
   "source": [
    "latlng_df = pd.read_csv('Geospatial_Coordinates.csv')\n",
    "toronto_df = pd.merge(toronto_df, latlng_df, on = 'Postal Code')\n",
    "toronto_df.head()"
   ]
  },
  {
   "cell_type": "markdown",
   "metadata": {},
   "source": [
    "#### Let's visually look at all of the boroughs in Toronto and its neighborhood "
   ]
  },
  {
   "cell_type": "code",
   "execution_count": null,
   "metadata": {},
   "outputs": [],
   "source": [
    "address = 'Toronto, ON'\n",
    "geolocator = Nominatim(user_agent = 'to_explorer')\n",
    "location = geolocator.geocode(address)\n",
    "latitude = location.latitude\n",
    "longitude = location.longitude\n",
    "print(f'Toronto\\nLat: {latitude}\\nLgn: {longitude}')"
   ]
  },
  {
   "cell_type": "code",
   "execution_count": null,
   "metadata": {},
   "outputs": [],
   "source": [
    "map_toronto = folium.Map([latitude,longitude], zoom_start = 13)\n",
    "for lat,lng, borough, neighbourhood in zip(toronto_df.Latitude, toronto_df.Longitude, toronto_df.Borough, toronto_df.Neighbourhood):\n",
    "    label = f'Neighborhood: {neighbourhood}\\nBorough: {borough}'\n",
    "    label = folium.Popup(label, parse_html = True)\n",
    "    folium.CircleMarker(\n",
    "        [lat, lng],\n",
    "        radius = 5,\n",
    "        popup = label,\n",
    "        color = 'red',\n",
    "        fill = True,\n",
    "        fill_color = 'yellow',\n",
    "        fill_opacity = 0.7,\n",
    "        parse_html = False\n",
    "    ).add_to(map_toronto)\n",
    "map_toronto"
   ]
  },
  {
   "cell_type": "code",
   "execution_count": null,
   "metadata": {},
   "outputs": [],
   "source": [
    "borough_df = toronto_df.groupby('Borough').count().sort_values('Neighbourhood',ascending = False)\n",
    "borough_df"
   ]
  },
  {
   "cell_type": "markdown",
   "metadata": {},
   "source": [
    "#### Choice of borough\n",
    "- Taking a look at the above borough_df dataframe after being grouped by the Borough columns, we can vividly see that the North York seem to be the potential borough because it has up to 24 neighborhoods  with different Postal Code among the others.\n",
    "- Examining the neighborhoods of North York region, we may explore a variety of venues which surround these neighbourhoods."
   ]
  },
  {
   "cell_type": "markdown",
   "metadata": {},
   "source": [
    "#### Get the North York DataFrame from the wholde dataset"
   ]
  },
  {
   "cell_type": "code",
   "execution_count": null,
   "metadata": {},
   "outputs": [],
   "source": [
    "to_df = toronto_df[toronto_df['Borough'].str.contains('Toronto')].reset_index(drop = True)\n",
    "# address = 'North York, ON'\n",
    "# geolocator = Nominatim(user_agent='to_explorer')\n",
    "# location = geolocator.geocode(address)\n",
    "# ny_lat = location.latitude\n",
    "# ny_lng = location.longitude\n",
    "# print(f'North York\\nLatitude: {ny_lat}\\nLongitude: {ny_lng}')\n",
    "print(f'Shape: {to_df.shape[0]}x{to_df.shape[1]}')\n",
    "to_df.head()"
   ]
  },
  {
   "cell_type": "code",
   "execution_count": null,
   "metadata": {},
   "outputs": [],
   "source": [
    "# To find out any similar values in Neighborhood\n",
    "to_df.Neighbourhood.value_counts()"
   ]
  },
  {
   "cell_type": "code",
   "execution_count": null,
   "metadata": {},
   "outputs": [],
   "source": [
    "map_to = folium.Map([latitude,longitude],zoom_start = 11)\n",
    "for lat, lng, neigh, pc in zip(to_df.Latitude, to_df.Longitude, to_df.Neighbourhood, to_df['Postal Code']):\n",
    "    label = f'Neighbor: {neigh}\\nPostal Code: {pc}'\n",
    "    label = folium.Popup(label, parse_html = True)\n",
    "    folium.CircleMarker(\n",
    "        [lat,lng],\n",
    "        radius = 5,\n",
    "        popup = label,\n",
    "        color = 'blue',\n",
    "        fill = True,\n",
    "        fill_color = 'red',\n",
    "        fill_opacity = 0.7,\n",
    "        parse_html = False\n",
    "    ).add_to(map_to)\n",
    "map_to"
   ]
  },
  {
   "cell_type": "markdown",
   "metadata": {},
   "source": [
    "#### Using Foursquare to explore the neighborhoods"
   ]
  },
  {
   "cell_type": "code",
   "execution_count": null,
   "metadata": {},
   "outputs": [],
   "source": [
    "CLIENT_ID = 'yAHPPBLZ4QX43IMOBWWZPQPW2GO2PC403TLIIJPTXEUDV1PGJ' # your Foursquare ID\n",
    "CLIENT_SECRET = 'OWL05PQU02RVOHOS45IIGJ3SCHJOYOGUFNOOL21SPROSTZ1I' # your Foursquare Secret\n",
    "VERSION = '20180605' # Foursquare API version\n",
    "LIMIT = 100 # A default Foursquare API limit value\n",
    "ACCESS_TOKEN = 'OZ0KJZ4ZYJPGUBRGQPDA2QXNO5MTBC4IG2SVMXP2K0LBGBQM'\n",
    "print('Your credentails:')\n",
    "print('CLIENT_ID: ' + CLIENT_ID)\n",
    "print('CLIENT_SECRET:' + CLIENT_SECRET)\n",
    "print('ACCESS_TOKEN:' + ACCESS_TOKEN)"
   ]
  },
  {
   "cell_type": "markdown",
   "metadata": {},
   "source": [
    "#### Instruction\n",
    "- This function is used to get the venues of each neighborhood based on its latitude and longitude via the url link which is created by Foursquare."
   ]
  },
  {
   "cell_type": "code",
   "execution_count": null,
   "metadata": {},
   "outputs": [],
   "source": [
    "def getNearbyVenues(pc, names, latitude, longitude, radius = 500):\n",
    "    venues_list = []\n",
    "    for pc, names, lat, lng in zip(pc, names, latitude, longitude):\n",
    "        print(names)\n",
    "        \n",
    "        url = f'https://api.foursquare.com/v2/venues/explore?&client_id={CLIENT_ID}&client_secret={CLIENT_SECRET}&v={VERSION}&ll={lat},{lng}&oauth_token={ACCESS_TOKEN}&radius={radius}&limit={LIMIT}'\n",
    "        results = requests.get(url).json()[\"response\"]['groups'][0]['items']\n",
    "        venues_list.append([(\n",
    "            pc,\n",
    "            names,\n",
    "            lat,\n",
    "            lng,\n",
    "            v['venue']['name'],\n",
    "            v['venue']['location']['lat'],\n",
    "            v['venue']['location']['lng'],\n",
    "            v['venue']['categories'][0]['name']) for v in results])\n",
    "    nearby_venues = pd.DataFrame([item for venue_list in venues_list for item in venue_list])\n",
    "    nearby_venues.columns = ['Postal Code',\n",
    "            'Neighborhood', \n",
    "              'Neighborhood Latitude', \n",
    "              'Neighborhood Longitude', \n",
    "              'Venue', \n",
    "              'Venue Latitude', \n",
    "              'Venue Longitude', \n",
    "              'Venue Category']\n",
    "    return(nearby_venues)"
   ]
  },
  {
   "cell_type": "code",
   "execution_count": null,
   "metadata": {},
   "outputs": [],
   "source": [
    "to_venues = getNearbyVenues(to_df['Postal Code'],to_df.Neighbourhood, to_df.Latitude, to_df.Longitude)\n",
    "to_venues.head()"
   ]
  },
  {
   "cell_type": "code",
   "execution_count": null,
   "metadata": {},
   "outputs": [],
   "source": [
    "# Let's have an overall observation on the total number of Venues of each Postal Code \n",
    "to_venues.groupby('Postal Code').count().sort_values('Venue',ascending=False).loc[:,'Venue':'Venue Category']"
   ]
  },
  {
   "cell_type": "code",
   "execution_count": null,
   "metadata": {},
   "outputs": [],
   "source": [
    "print(f'Number of unique categories: {len(to_venues[\"Venue Category\"].unique())}')"
   ]
  },
  {
   "cell_type": "markdown",
   "metadata": {},
   "source": [
    "#### One-hot Coding technique\n",
    "- Now, we will utilize the one-hot coding technique to turn each venue categories which are found based on the Postal Code into categorical data (1 if the venue is available, otherwise, 0)"
   ]
  },
  {
   "cell_type": "code",
   "execution_count": null,
   "metadata": {},
   "outputs": [],
   "source": [
    "to_onehot = pd.get_dummies(to_venues[['Venue Category']],prefix=\"\",prefix_sep=\"\")\n",
    "to_onehot[['Postal Code', 'Neighborhood']] = to_venues[['Postal Code','Neighborhood']]\n",
    "fixed_cols = list(to_onehot.columns[-2:]) + list(to_onehot.columns[:-2])\n",
    "to_onehot = to_onehot[fixed_cols]\n",
    "to_onehot.head()"
   ]
  },
  {
   "cell_type": "code",
   "execution_count": null,
   "metadata": {},
   "outputs": [],
   "source": [
    "ny_onehot.shape"
   ]
  },
  {
   "cell_type": "markdown",
   "metadata": {},
   "source": [
    "#### PERSONAL EVALUATION: Differences in the dataset\n",
    "- Briefly glacing at the dataset, it is noticeable that the Neighborhood column has a number of similar values, but different Postal Code. Hence, the Postal Code column can be used as a key feature in the process of exploring and clustering the neighborhood in Toronto.\n",
    "- It is evident that after filling the dataset with the Latitude and Longitude columns based on the Postal Code, we are able to point out that although there are a number of similar values in the Neighborhood columns, these similar neiborhoods totally get distinct Postal Code, Latitude, and Longitude.\n",
    "- In conclusion, if we choose to group the dataset by the Neighborhood, there will be a whole host of potential venues can be missed in the exploring and clustering process. Therefore, utilizing the Postal Code as key feature for grouping should be taken into account because of its distinction."
   ]
  },
  {
   "cell_type": "code",
   "execution_count": null,
   "metadata": {},
   "outputs": [],
   "source": [
    "to_grouped = to_onehot.groupby(['Postal Code','Neighborhood']).mean().reset_index()\n",
    "to_grouped\n",
    "# ny_onehot.groupby('Postal Code')"
   ]
  },
  {
   "cell_type": "code",
   "execution_count": null,
   "metadata": {},
   "outputs": [],
   "source": [
    "# This code is used to observe the frequent appearance of each venues categories\n",
    "num_top_venues = 8\n",
    "for pc,hood in zip(to_grouped['Postal Code'],to_grouped['Neighborhood']):\n",
    "    print(\"----\"+f'{hood} (PC:{pc})'+\"----\")\n",
    "    temp = to_grouped[to_grouped['Postal Code'] == pc].T.reset_index() # transpose the index and the columns, then get the corresponding neighborhood and its columns \n",
    "    temp.columns = ['venue','freq']\n",
    "    temp = temp.iloc[2:]\n",
    "    temp['freq'] = temp['freq'].astype(float)\n",
    "    temp = temp.round({'freq': 2})\n",
    "    print(temp.sort_values('freq', ascending=False).reset_index(drop=True).head(num_top_venues))\n",
    "    print('\\n')"
   ]
  },
  {
   "cell_type": "code",
   "execution_count": null,
   "metadata": {},
   "outputs": [],
   "source": [
    "# This is for the illustration for the above loop (do not regard about this cell, this cell is only used for coder's purpose)\n",
    "# ny_grouped[ny_grouped['Postal Code'] == 'M2H'].T"
   ]
  },
  {
   "cell_type": "code",
   "execution_count": null,
   "metadata": {},
   "outputs": [],
   "source": [
    "def return_most_common_venues(row, num_top_venues):\n",
    "    row_categories = row.iloc[2:]\n",
    "    row_categories_sorted = row_categories.sort_values(ascending = False)\n",
    "    return row_categories_sorted.index.values[0:num_top_venues]\n",
    "\n",
    "# # Explaination for the above function (do not concern this block of code, this is only used for the coder's purpose)\n",
    "# row = ny_grouped.iloc[0,:] # get the first row and all columns\n",
    "# row_categories = row.iloc[2:] # only take the row with numeric values\n",
    "# row_categories_sorted = row_categories.sort_values(ascending = False)\n",
    "# row_categories_sorted"
   ]
  },
  {
   "cell_type": "markdown",
   "metadata": {},
   "source": [
    "#### Clustering the neiborhood.\n",
    "- Observing the frequency of each of the venue categories, there are a number of neighborhoods that have limited venues.\n",
    "- Hence, to make sure there will be available venues in each of the neighborhoods, we will take only 4 top/ most common venues to cluster."
   ]
  },
  {
   "cell_type": "code",
   "execution_count": null,
   "metadata": {},
   "outputs": [],
   "source": [
    "num_top_venues = 4\n",
    "indicators = ['st','nd','rd']\n",
    "columns = ['Postal Code','Neighborhood']\n",
    "for ind in np.arange(num_top_venues):\n",
    "    try:\n",
    "        columns.append(f'{ind+1}{indicators[ind]} Most Common Venue')\n",
    "    except:\n",
    "        columns.append(f'{ind+1}th Most Common Venue')\n",
    "\n",
    "neigh_venues_sorted = pd.DataFrame(columns = columns)\n",
    "neigh_venues_sorted[['Postal Code','Neighborhood']] = to_grouped[['Postal Code','Neighborhood']]\n",
    "for ind in np.arange(to_grouped.shape[0]):\n",
    "#     neigh_venues_sorted.iloc[0,0:] \n",
    "    neigh_venues_sorted.iloc[ind,2:] = return_most_common_venues(to_grouped.iloc[ind,:],num_top_venues)\n",
    "neigh_venues_sorted"
   ]
  },
  {
   "cell_type": "code",
   "execution_count": null,
   "metadata": {},
   "outputs": [],
   "source": [
    "# Based on the frequency of venue categories, we can cluster the neighborhoods into 3 distinct group\n",
    "kclusters = 5\n",
    "to_grouped_clustering = to_grouped.drop(['Postal Code','Neighborhood'],1)\n",
    "kmeans = KMeans(n_clusters = kclusters, random_state = 0).fit(ny_grouped_clustering)\n",
    "print(f'Number of Cluster Labels: {len(kmeans.labels_)}')\n",
    "print(f'Labels: {kmeans.labels_}')"
   ]
  },
  {
   "cell_type": "code",
   "execution_count": null,
   "metadata": {},
   "outputs": [],
   "source": [
    "neigh_venues_sorted.insert(0,'Cluster Labels',kmeans.labels_)\n",
    "to_merged = to_df\n",
    "to_merged = to_merged.join(neigh_venues_sorted.set_index('Postal Code'), on = 'Postal Code')\n",
    "columns = [to_merged.columns[1]] + [to_merged.columns[0]] + list(to_merged.columns[2:])  \n",
    "to_merged = to_merged[columns]\n",
    "to_merged"
   ]
  },
  {
   "cell_type": "code",
   "execution_count": null,
   "metadata": {},
   "outputs": [],
   "source": [
    "map_clusters = folium.Map(location = [latitude,longitude], zoom_start = 11)\n",
    "# create color code for each of the distinct clusters\n",
    "x = np.arange(kclusters)\n",
    "ys = [i + x +(i*x)**2 for i in range (kclusters)]\n",
    "colors_array = cm.rainbow(np.linspace(0,1, len(ys)))\n",
    "rainbow = [colors.rgb2hex(i) for i in colors_array] \n",
    "\n",
    "for lat, lng, poi, cluster in zip(to_merged.Latitude, to_merged.Longitude, to_merged.Neighbourhood, to_merged['Cluster Labels']):\n",
    "    label = folium.Popup(f'{str(poi)}\\nCluster: {str(cluster)}', parse_html = True)\n",
    "    folium.CircleMarker(\n",
    "        [lat,lng],\n",
    "        radius = 5,\n",
    "        popup = label,\n",
    "        color = rainbow[cluster],\n",
    "        fill = True,\n",
    "        fill_color = rainbow[cluster],\n",
    "        fill_opacity = 0.7\n",
    "    ).add_to(map_clusters)\n",
    "map_clusters\n",
    "# rainbow[3]"
   ]
  },
  {
   "cell_type": "markdown",
   "metadata": {},
   "source": [
    "#### Examine the cluster\n",
    "- We can perceptually point out that the distribution of the cluster 2 (in red) is overweight the other clusters."
   ]
  },
  {
   "cell_type": "code",
   "execution_count": null,
   "metadata": {},
   "outputs": [],
   "source": [
    "ny_merged.loc[to_merged['Cluster Labels'] == 0, to_merged.columns[[1] + list(range(5, to_merged.shape[1]))]]"
   ]
  },
  {
   "cell_type": "code",
   "execution_count": null,
   "metadata": {},
   "outputs": [],
   "source": [
    "ny_merged.loc[to_merged['Cluster Labels'] == 1, to_merged.columns[[1] + list(range(5, to_merged.shape[1]))]]"
   ]
  },
  {
   "cell_type": "code",
   "execution_count": null,
   "metadata": {},
   "outputs": [],
   "source": [
    "ny_merged.loc[to_merged['Cluster Labels'] == 2, to_merged.columns[[1] + list(range(5, to_merged.shape[1]))]]"
   ]
  },
  {
   "cell_type": "markdown",
   "metadata": {},
   "source": [
    "- It is remarkable that there a variety of venue categories in cluster 2.\n",
    "- The neighborhoods in cluster 2 will offer more common venues for the observers. If we choose these neighborhoods as our destination, we likely have more options for our trip.\n",
    "- In contrast, cluster 0 and cluster 1 are not diverse in venue categories, which may provide poor amenities."
   ]
  }
 ],
 "metadata": {
  "kernelspec": {
   "display_name": "Python 3",
   "language": "python",
   "name": "python3"
  },
  "language_info": {
   "codemirror_mode": {
    "name": "ipython",
    "version": 3
   },
   "file_extension": ".py",
   "mimetype": "text/x-python",
   "name": "python",
   "nbconvert_exporter": "python",
   "pygments_lexer": "ipython3",
   "version": "3.9.1"
  }
 },
 "nbformat": 4,
 "nbformat_minor": 4
}
