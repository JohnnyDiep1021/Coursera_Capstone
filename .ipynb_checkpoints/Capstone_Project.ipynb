{
 "cells": [
  {
   "cell_type": "markdown",
   "metadata": {},
   "source": [
    "# Capstone Project - The Battle of Neighborhoods"
   ]
  },
  {
   "cell_type": "markdown",
   "metadata": {},
   "source": [
    "## Introduction/ Business Problem section"
   ]
  },
  {
   "cell_type": "markdown",
   "metadata": {},
   "source": [
    "#### Circumstance: Accommodation problem in London, Ontario.\n",
    "\n",
    "- In this capstone, we reach out to stakeholders who are looking for the most convenient and well-located areas with good public amenities and service in London, Ontario. Specifically, We are going to explore the neighborhoods in London and specify the number of residential areas with a prosperous economy. \n",
    "\n",
    "- Our stakeholders don't know what kind of effective business patterns they should startup, so they also want us to suggest some of the potential economies in the recommended areas. More crucially, the number of influential factors will be **the stakeholder's affordability** for **the cost of living** and **the price of the real estate in the desired areas**. Since we primarily focus on using Foursquare to discover the most ideal living area in this capstone, we will assume these factors are in the available budget of our stakeholders. \n",
    "\n",
    "- Working as a data scientist, we will manipulate the power of data to generate the most feasible and promising neighborhoods based on the listed above criteria. It will be expected that the upsides and downsides will be also comprehensively listed out so that the best deliverables can be used to help our stakeholders make their final decision.\n",
    "\n",
    "- This project will significantly target the potential stakeholders who have a desire to settle down and run their own business in a residential area with good living conditions.\n",
    "\n",
    "**Problem**\n",
    "1. Which area is the best to settle down in London, Ontario?\n",
    "2. How close should the living area be to the surrounded public services?\n",
    "3. What kind of potential business pattern should be recommended?"
   ]
  },
  {
   "cell_type": "markdown",
   "metadata": {},
   "source": [
    "## Data section"
   ]
  },
  {
   "cell_type": "markdown",
   "metadata": {},
   "source": [
    "Based on our defined circumstance, there will be a number of factors that will have impacts on our decision:\n",
    "- The number of neighborhoods that need to be taken a look at in London, Ontario. \n",
    "- The distance from the living areas to the other venues within the neighborhood.\n",
    "- The number of available business patterns within the neighborhood.\n",
    "\n",
    "As listed above, the following data sources will be needed to generate the required information:\n",
    "- The location and coordinates of each neighborhood in London, Ontario will be scraped from **[webage](http://www.geonames.org/postalcode-search.html?q=london&country=CA&adminCode1=ON&fbclid=IwAR2XipWkuSm3F9YSjjVvFqp7SfYCPl9_XaxiehoPnn-7XmsjtnJBrbKh31g)** by using **Pandas function/ BeautifulSoup**.\n",
    "- The number of venues and their categories within each neighborhood are extracted by using **FourSquare API**.\n",
    "- **The extracted venue categories** can be used as a **separated dataset** to build the **recommender system** for the suggestion of business patterns.   "
   ]
  },
  {
   "cell_type": "code",
   "execution_count": 1,
   "metadata": {},
   "outputs": [
    {
     "ename": "ModuleNotFoundError",
     "evalue": "No module named 'seaborn'",
     "output_type": "error",
     "traceback": [
      "\u001b[1;31m---------------------------------------------------------------------------\u001b[0m",
      "\u001b[1;31mModuleNotFoundError\u001b[0m                       Traceback (most recent call last)",
      "\u001b[1;32m<ipython-input-1-9e4e90b31653>\u001b[0m in \u001b[0;36m<module>\u001b[1;34m\u001b[0m\n\u001b[0;32m      5\u001b[0m \u001b[1;32mimport\u001b[0m \u001b[0mmatplotlib\u001b[0m\u001b[1;33m.\u001b[0m\u001b[0mcolors\u001b[0m \u001b[1;32mas\u001b[0m \u001b[0mcolors\u001b[0m\u001b[1;33m\u001b[0m\u001b[1;33m\u001b[0m\u001b[0m\n\u001b[0;32m      6\u001b[0m \u001b[1;32mimport\u001b[0m \u001b[0mrequests\u001b[0m\u001b[1;33m\u001b[0m\u001b[1;33m\u001b[0m\u001b[0m\n\u001b[1;32m----> 7\u001b[1;33m \u001b[1;32mimport\u001b[0m \u001b[0mseaborn\u001b[0m \u001b[1;32mas\u001b[0m \u001b[0msb\u001b[0m\u001b[1;33m\u001b[0m\u001b[1;33m\u001b[0m\u001b[0m\n\u001b[0m\u001b[0;32m      8\u001b[0m \u001b[1;32mimport\u001b[0m \u001b[0mfolium\u001b[0m\u001b[1;33m\u001b[0m\u001b[1;33m\u001b[0m\u001b[0m\n\u001b[0;32m      9\u001b[0m \u001b[1;32mfrom\u001b[0m \u001b[0mgeopy\u001b[0m\u001b[1;33m.\u001b[0m\u001b[0mgeocoders\u001b[0m \u001b[1;32mimport\u001b[0m \u001b[0mNominatim\u001b[0m\u001b[1;33m\u001b[0m\u001b[1;33m\u001b[0m\u001b[0m\n",
      "\u001b[1;31mModuleNotFoundError\u001b[0m: No module named 'seaborn'"
     ]
    }
   ],
   "source": [
    "import pandas as pd\n",
    "import numpy as np\n",
    "import matplotlib.pyplot as plt\n",
    "import matplotlib.cm as cm\n",
    "import matplotlib.colors as colors\n",
    "import requests\n",
    "import seaborn as sb\n",
    "import folium\n",
    "from geopy.geocoders import Nominatim\n",
    "from bs4 import BeautifulSoup\n",
    "from sklearn.cluster import KMeans"
   ]
  },
  {
   "cell_type": "code",
   "execution_count": null,
   "metadata": {},
   "outputs": [],
   "source": [
    "url = 'http://www.geonames.org/postalcode-search.html?q=london&country=CA&adminCode1=ON&fbclid=IwAR2XipWkuSm3F9YSjjVvFqp7SfYCPl9_XaxiehoPnn-7XmsjtnJBrbKh31g'\n",
    "html_file = requests.get(url).text\n",
    "soup = BeautifulSoup(html_file,'html.parser')"
   ]
  },
  {
   "cell_type": "code",
   "execution_count": null,
   "metadata": {},
   "outputs": [],
   "source": [
    "pc = []\n",
    "borough = []\n",
    "neigh = []\n",
    "lat = []\n",
    "lng = []\n",
    "\n",
    "iterrows = soup.find('table', class_ = 'restable').find_all('tr')\n",
    "for rows in iterrows[1::2]:\n",
    "    if len(rows) > 1:\n",
    "        temp = rows.find_all('td')[1:9]\n",
    "        lst_rows = temp[0:2] + [temp[-1]]\n",
    "        pc.append(lst_rows[1].text)\n",
    "        borough.append(lst_rows[0].text.split('(')[0].strip())\n",
    "        try:\n",
    "            neigh.append(lst_rows[0].text.split('(')[1].strip(')'))\n",
    "        except:\n",
    "            neigh.append(lst_rows[0].text.split('(')[0].strip())\n",
    "        lat.append(eval(lst_rows[-1].small.text.split('/')[0]))\n",
    "        lng.append(eval(lst_rows[-1].small.text.split('/')[1]))        \n",
    "#         for i in lst_rows:\n",
    "#             print(i.text)\n",
    "#         print(lst_rows)\n",
    "            \n",
    "    \n",
    "# This Code is used to test for the data getting from the webpage\n",
    "# rows = soup.find('table', class_ = 'restable').find_all('tr')\n",
    "# temp = rows[1].find_all('td')[1:9]\n",
    "# lst = temp[0:2] + [temp[-1]]\n",
    "# lst[0].text.split('(')\n",
    "# eval(rows[2].small.text.split('/')[0])\n",
    "\n",
    "# Check the total length in each rows\n",
    "# for i in rows[1:]:\n",
    "#     temp = i.find_all('td')\n",
    "#     print(len(i.find_all('td')))\n",
    "\n",
    "london_df = pd.DataFrame({'Postal Code': pc,'Borough': borough,'Neighborhood': neigh,'Latitude':lat,'Longitude':lng})\n",
    "# london_df.to_csv('London_ON_Canada.csv')\n",
    "london_df"
   ]
  },
  {
   "cell_type": "code",
   "execution_count": null,
   "metadata": {},
   "outputs": [],
   "source": [
    "address = 'London, ON, Canada'\n",
    "geolocator = Nominatim(user_agent=\"lon_explorer\")\n",
    "location = geolocator.geocode(address)\n",
    "latitude = location.latitude\n",
    "longitude = location.longitude\n",
    "print('The geograpical coordinate of London, Ontario are {}, {}.'.format(latitude, longitude))"
   ]
  },
  {
   "cell_type": "code",
   "execution_count": null,
   "metadata": {},
   "outputs": [],
   "source": [
    "london_map = folium.Map([latitude,longitude], zoom_start = 11)\n",
    "for lat,lng,pc,neigh in zip(london_df.Latitude, london_df.Longitude,london_df['Postal Code'],london_df.Neighborhood):\n",
    "    label = f'{neigh}\\n({pc})'\n",
    "    label = folium.Popup(label, parse_html = True)\n",
    "    folium.CircleMarker(\n",
    "        [lat,lng],\n",
    "        radius = 5,\n",
    "        popup = label,\n",
    "        color = 'Blue',\n",
    "        fill = True,\n",
    "        fill_color='#3186cc',\n",
    "        fill_opacity=0.7,\n",
    "        parse_html=False).add_to(london_map)\n",
    "    \n",
    "london_map"
   ]
  },
  {
   "cell_type": "code",
   "execution_count": null,
   "metadata": {},
   "outputs": [],
   "source": [
    "CLIENT_ID = 'yAHPPBLZ4QX43IMOBWWZPQPW2GO2PC403TLIIJPTXEUDV1PGJ' # your Foursquare ID\n",
    "CLIENT_SECRET = 'OWL05PQU02RVOHOS45IIGJ3SCHJOYOGUFNOOL21SPROSTZ1I' # your Foursquare Secret\n",
    "VERSION = '20180605' # Foursquare API version\n",
    "LIMIT = 100 # A default Foursquare API limit value\n",
    "ACCESS_TOKEN = 'OZ0KJZ4ZYJPGUBRGQPDA2QXNO5MTBC4IG2SVMXP2K0LBGBQM'\n",
    "print('Your credentails:')\n",
    "print('CLIENT_ID: ' + CLIENT_ID)\n",
    "print('CLIENT_SECRET:' + CLIENT_SECRET)\n",
    "print('ACCESS_TOKEN:' + ACCESS_TOKEN)"
   ]
  },
  {
   "cell_type": "code",
   "execution_count": null,
   "metadata": {},
   "outputs": [],
   "source": [
    "def getNearbyVenues(pc, names, latitude, longitude, radius = 1000):\n",
    "    venues_lst = []\n",
    "    for pc, names, lat, lng in zip(pc, names, latitude, longitude):\n",
    "        print(names)\n",
    "        url = f'https://api.foursquare.com/v2/venues/explore?client_id={CLIENT_ID}&client_secret={CLIENT_SECRET}&v={VERSION}&ll={lat},{lng}&oauth_token={ACCESS_TOKEN}&radius={radius}&limit={LIMIT}'\n",
    "        results = requests.get(url).json()[\"response\"]['groups'][0]['items']\n",
    "        venues_lst.append([(\n",
    "            pc,\n",
    "            names,\n",
    "            lat,\n",
    "            lng,\n",
    "            v['venue']['name'],\n",
    "            v['venue']['location']['lat'],\n",
    "            v['venue']['location']['lng'],\n",
    "            v['venue']['categories'][0]['name']) for v in results])\n",
    "    nearby_venues = pd.DataFrame([item for venue_lst in venues_lst for item in venue_lst])\n",
    "    nearby_venues.columns = ['Postal Code',\n",
    "                            'Neighborhood',\n",
    "                            'Neighborhood Latitude',\n",
    "                            'Neighborhood Longitude',\n",
    "                            'Venue',\n",
    "                            'Venue Latitude',\n",
    "                            'Venue Longitude',\n",
    "                            'Venue Category']\n",
    "    return(nearby_venues)"
   ]
  },
  {
   "cell_type": "code",
   "execution_count": null,
   "metadata": {},
   "outputs": [],
   "source": [
    "venues_df = getNearbyVenues(london_df['Postal Code'], london_df.Neighborhood, london_df.Latitude, london_df.Longitude)\n",
    "venues_df.head()"
   ]
  },
  {
   "cell_type": "code",
   "execution_count": null,
   "metadata": {},
   "outputs": [],
   "source": [
    "col=list(venues_df.columns.values[0:2])\n",
    "del_col = list(venues_df.columns.values[2:4])\n",
    "cate_df = venues_df.groupby(col).count().sort_values(by='Venue',ascending=False).drop(del_col,axis = 1).reset_index()\n",
    "cate_df.to_csv('Venue_Categories_in_London.csv')\n",
    "cate_df"
   ]
  },
  {
   "cell_type": "code",
   "execution_count": null,
   "metadata": {},
   "outputs": [],
   "source": [
    "# Outliers in neighborhood\n",
    "london_df[~london_df.Neighborhood.isin((list(cate_df.Neighborhood.values)))]"
   ]
  },
  {
   "cell_type": "code",
   "execution_count": null,
   "metadata": {},
   "outputs": [],
   "source": [
    "print(f'Shape of venues_df: {venues_df[venues_df[\"Neighborhood\"] == \"London Central\"].shape}')"
   ]
  },
  {
   "cell_type": "code",
   "execution_count": null,
   "metadata": {},
   "outputs": [],
   "source": [
    "print(f'Number of unique categories: {len(venues_df[\"Venue Category\"].unique())}')"
   ]
  },
  {
   "cell_type": "code",
   "execution_count": null,
   "metadata": {},
   "outputs": [],
   "source": [
    "onehot = pd.get_dummies(venues_df[['Venue Category']], prefix = \"\", prefix_sep = \"\")\n",
    "onehot[['Postal Code','Neighborhood']] = venues_df[['Postal Code','Neighborhood']]\n",
    "fixed_col = list(onehot.columns[-2:]) + list(onehot.columns[0:-2])\n",
    "onehot = onehot[fixed_col]\n",
    "print(f'Shape: {onehot.shape[0]}x{onehot.shape[1]}')\n",
    "onehot.head()"
   ]
  },
  {
   "cell_type": "code",
   "execution_count": null,
   "metadata": {},
   "outputs": [],
   "source": [
    "print(f'Shape of onehot: {onehot.shape[0]}x{onehot.shape[1]}')"
   ]
  },
  {
   "cell_type": "code",
   "execution_count": null,
   "metadata": {},
   "outputs": [],
   "source": [
    "onehot_group = onehot.groupby(['Postal Code','Neighborhood']).mean().reset_index()\n",
    "onehot_group"
   ]
  },
  {
   "cell_type": "code",
   "execution_count": null,
   "metadata": {},
   "outputs": [],
   "source": [
    "num_top_venues = 5\n",
    "for pc, hood in zip(onehot_group['Postal Code'],onehot_group['Neighborhood']):\n",
    "    print(\"----\"+f'{hood} (PC:{pc})'+\"----\")\n",
    "    temp = onehot_group[onehot_group['Postal Code'] == pc].T.reset_index()\n",
    "    temp.columns = ['venue','freq']\n",
    "    temp = temp.iloc[2:]\n",
    "    temp['freq'] = temp['freq'].astype(float)\n",
    "    temp = temp.round({'freq':2})\n",
    "    print(temp.sort_values('freq',ascending=False).reset_index(drop = True).head(num_top_venues))\n",
    "    print('n')"
   ]
  },
  {
   "cell_type": "code",
   "execution_count": null,
   "metadata": {},
   "outputs": [],
   "source": [
    "def return_most_common_venues(row, num_top_venues):\n",
    "    row_categories = row.iloc[2:]\n",
    "    row_categories_sorted = row_categories.sort_values(ascending = False)[0:num_top_venues]\n",
    "    for i in np.arange(len(row_categories_sorted.values)):\n",
    "        if row_categories_sorted.values[i] == 0:\n",
    "            row_categories_sorted.index.values[i] = 'NaN'      \n",
    "    return row_categories_sorted.index.values"
   ]
  },
  {
   "cell_type": "code",
   "execution_count": null,
   "metadata": {},
   "outputs": [],
   "source": [
    "num_top_venues = 10\n",
    "indicators = ['st','nd','rd']\n",
    "columns = ['Postal Code', 'Neighborhood']\n",
    "for ind in np.arange(num_top_venues):\n",
    "    try:\n",
    "        columns.append(f'{ind+1}{indicators[ind]} Most Common Venue')\n",
    "    except:\n",
    "        columns.append(f'{ind+1}th Most Common Venue')\n",
    "neigh_venues_sorted = pd.DataFrame(columns = columns)\n",
    "neigh_venues_sorted[['Postal Code', 'Neighborhood']] = onehot_group[['Postal Code','Neighborhood']]\n",
    "for ind in np.arange(onehot_group.shape[0]):\n",
    "    neigh_venues_sorted.iloc[ind,2:] = return_most_common_venues(onehot_group.iloc[ind,:],num_top_venues)\n",
    "neigh_venues_sorted"
   ]
  },
  {
   "cell_type": "code",
   "execution_count": null,
   "metadata": {},
   "outputs": [],
   "source": [
    "feature = onehot_group.drop(['Postal Code','Neighborhood'],1)\n",
    "ssq = []\n",
    "kclusters = np.arange(1,12)\n",
    "for k in kclusters:\n",
    "    kmeans = KMeans(n_clusters = k, random_state = 0).fit(feature)\n",
    "    ssq.append(kmeans.inertia_)\n",
    "# ssq\n",
    "plt.plot(kclusters, ssq)\n",
    "plt.xlabel('K')\n",
    "plt.ylabel('SSQ')\n",
    "plt.show"
   ]
  },
  {
   "cell_type": "code",
   "execution_count": null,
   "metadata": {},
   "outputs": [],
   "source": [
    "# The best k will be 4\n",
    "kcluster = 4\n",
    "kmeans = KMeans(n_clusters = kcluster, random_state = 0, n_init =  12).fit(feature)\n",
    "print(f'Number of Cluster Labels: {len(kmeans.labels_)}')\n",
    "print(f'Labels: {kmeans.labels_}')"
   ]
  },
  {
   "cell_type": "code",
   "execution_count": null,
   "metadata": {},
   "outputs": [],
   "source": [
    "print(f'Total number of cluster\\'s coordinates: {kmeans.cluster_centers_[0].size}')\n",
    "print(f'Total size of features: {onehot.columns.values[2:].size}')"
   ]
  },
  {
   "cell_type": "code",
   "execution_count": null,
   "metadata": {},
   "outputs": [],
   "source": [
    "neigh_venues_sorted.insert(0,'Cluster Labels',kmeans.labels_)\n",
    "df_merged = london_df.drop([6,14]).reset_index(drop=True)\n",
    "df_merged = df_merged.merge(neigh_venues_sorted)\n",
    "columns = [df_merged.columns[5]] + [df_merged.columns[1]] + [df_merged.columns[0]] + list(df_merged.columns[2:5]) + list(df_merged.columns[6:])\n",
    "df_merged = df_merged[columns]\n",
    "df_merged"
   ]
  },
  {
   "cell_type": "code",
   "execution_count": null,
   "metadata": {},
   "outputs": [],
   "source": [
    "# temp1 = london_df.drop([6,14]).reset_index(drop = True)\n",
    "# temp2 = neigh_venues_sorted\n",
    "# # temp1['Postal Code'].isin(temp2['Postal Code'])\n",
    "# join_df = temp1\n",
    "# join_df = join_df.join(temp2.set_index('Postal Code'), on = 'Postal Code', lsuffix = '_left',rsuffix='_right')\n",
    "# join_df"
   ]
  },
  {
   "cell_type": "code",
   "execution_count": null,
   "metadata": {},
   "outputs": [],
   "source": [
    "# Set color codes\n",
    "x = np.arange(kcluster)\n",
    "ys = [i+x+(i*x)**2 for i in range(kcluster)]\n",
    "colors_array = cm.rainbow(np.linspace(0,1,len(ys)))\n",
    "rainbow = [colors.rgb2hex(i) for i in colors_array]\n",
    "rainbow"
   ]
  },
  {
   "cell_type": "code",
   "execution_count": null,
   "metadata": {},
   "outputs": [],
   "source": [
    "map_cluster = folium.Map([latitude, longitude], zoom_start = 11)\n",
    "for lat, lng, neigh, c in zip(df_merged.Latitude, df_merged.Longitude, df_merged.Neighborhood, df_merged['Cluster Labels']):\n",
    "    label = f'Neighbor: {neigh}\\nCluster: {c}'\n",
    "    label = folium.Popup(label,parse_html = True)\n",
    "    folium.CircleMarker(\n",
    "        [lat,lng],\n",
    "        radius = 8,\n",
    "        popup = label,\n",
    "        color = rainbow[c],\n",
    "        fill = True,\n",
    "        fill_color = rainbow[c],\n",
    "        fill_opacity = 0.7,).add_to(map_cluster)\n",
    "map_cluster"
   ]
  },
  {
   "cell_type": "code",
   "execution_count": null,
   "metadata": {},
   "outputs": [],
   "source": [
    "cols = df_merged.columns.values[6:]\n",
    "df_merged.loc[df_merged['Cluster Labels'] == 0, cols]"
   ]
  },
  {
   "cell_type": "code",
   "execution_count": null,
   "metadata": {},
   "outputs": [],
   "source": [
    "df_merged.loc[df_merged['Cluster Labels'] == 1, cols]"
   ]
  },
  {
   "cell_type": "code",
   "execution_count": null,
   "metadata": {},
   "outputs": [],
   "source": [
    "df_merged.loc[df_merged['Cluster Labels'] == 2, cols]"
   ]
  },
  {
   "cell_type": "code",
   "execution_count": null,
   "metadata": {},
   "outputs": [],
   "source": [
    "df_merged.loc[df_merged['Cluster Labels'] == 3, cols]"
   ]
  },
  {
   "cell_type": "code",
   "execution_count": null,
   "metadata": {},
   "outputs": [],
   "source": [
    "# https://www.postalpinzipcodes.com/Postcode-CAN-Canada-Postal-code-N6A-ZIP-Code\n",
    "# http://zip-code.en.mapawi.com/canada/4/ontario/1/9/on/london-north-uwo-/n6a/1051/"
   ]
  }
 ],
 "metadata": {
  "kernelspec": {
   "display_name": "Python 3",
   "language": "python",
   "name": "python3"
  },
  "language_info": {
   "codemirror_mode": {
    "name": "ipython",
    "version": 3
   },
   "file_extension": ".py",
   "mimetype": "text/x-python",
   "name": "python",
   "nbconvert_exporter": "python",
   "pygments_lexer": "ipython3",
   "version": "3.9.1"
  }
 },
 "nbformat": 4,
 "nbformat_minor": 4
}
