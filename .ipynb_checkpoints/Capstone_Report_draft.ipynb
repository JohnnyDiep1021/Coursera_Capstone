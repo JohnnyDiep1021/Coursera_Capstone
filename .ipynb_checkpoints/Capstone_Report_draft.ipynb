{
 "cells": [
  {
   "cell_type": "markdown",
   "metadata": {},
   "source": [
    "# Capstone Project - The Battle of Neighborhoods"
   ]
  },
  {
   "cell_type": "markdown",
   "metadata": {},
   "source": [
    "### Recommdation\n",
    "1. In Module 3, we explored New York City and the city of Toronto and segmented and clustered their neighborhoods. Both cities are very diverse and are the financial capitals of their respective countries. One interesting idea would be to compare the neighborhoods of the two cities and determine how similar or dissimilar they are. Is New York City more like Toronto or Paris or some other multicultural city? I will leave it to you to refine this idea.\n",
    "\n",
    "2. In a city of your choice, if someone is looking to open a restaurant, where would you recommend that they open it? Similarly, if a contractor is trying to start their own business, where would you recommend that they setup their office?"
   ]
  },
  {
   "cell_type": "markdown",
   "metadata": {},
   "source": [
    "## Introduction/ Business Problem section"
   ]
  },
  {
   "cell_type": "markdown",
   "metadata": {},
   "source": [
    "##### Instruction 1\n",
    "- Clearly define a problem or an idea of your choice, where you would need to leverage the Foursquare location data to solve or execute. Remember that data science problems always target an audience and are meant to help a group of stakeholders solve a problem, so make sure that you explicitly describe your audience and why they would care about your problem.\n",
    "\n",
    "- This submission will eventually become your Introduction/Business Problem section in your final report. So I recommend that you push the report (having your Introduction/Business Problem section only for now) to your Github repository and submit a link to it."
   ]
  },
  {
   "cell_type": "markdown",
   "metadata": {},
   "source": [
    "#### Circumstance: Accommodation problem in London, Ontario.\n",
    "\n",
    "- In this capstone, we reach out to stakeholders who are looking for the most convenient and well-located areas with good public amenities and service in London, Ontario. Specifically, We are going to explore the neighborhoods in London and specify a number of residential and economic areas in term of economic prosperity. \n",
    "\n",
    "- Our stakeholders don't know what kind of effective business patterns they should start up, so they also want us to suggest some of the potential economy in the recommended areas. More crucially, a number of influential factors will be **the stakeholder's affordability** for **the cost of living** and **the price of the real estate in the desired areas**. Since we primarily focus on using the Foursquare to discover the most ideal living area in this capstone, we will assume these factors are in the available budget of our stakeholders. \n",
    "\n",
    "- Working as data scientist, we will manipulate the power of data to generate the most feasible and promising neighborhoods based on the listed above criteria. It will be expected that the upsides and downsides will be also comprehensively listed out so that the best deliverables can be used to help our stakeholders make their final decision.\n",
    "\n",
    "- This project will significantly target the potential stakeholders who have a desire to settle down and run their own business in a good living area.\n",
    "\n",
    "**Problem**\n",
    "1. Which recommended area is the best to live in London, Ontario?\n",
    "2. How best the proximity should be from the living area to the surrounded public services?\n",
    "3. What kind of potential business pattern should be recommended?"
   ]
  },
  {
   "cell_type": "markdown",
   "metadata": {},
   "source": [
    "## Data section"
   ]
  },
  {
   "cell_type": "markdown",
   "metadata": {},
   "source": [
    "##### Instruction 2\n",
    "- Describe the data that you will be using to solve the problem or execute your idea. Remember that you will need to use the Foursquare location data to solve the problem or execute your idea. You can absolutely use other datasets in combination with the Foursquare location data. So make sure that you provide adequate explanation and discussion, with examples, of the data that you will be using, even if it is only Foursquare location data.\n",
    "\n",
    "- This submission will eventually become your Data section in your final report. So I recommend that you push the report (having your Data section) to your Github repository and submit a link to it."
   ]
  },
  {
   "cell_type": "markdown",
   "metadata": {},
   "source": [
    "Taking our defined circumstance into account, there will be a number of factors which will have impacts on our decision in gathering the dataset:\n",
    "- The number of neighborhoods which need to be taken a look at in London, Ontario. \n",
    "- The distance from the living areas to the other venues within the neighborhood.\n",
    "- The number of available business patterns within the neighborhood.\n",
    "\n",
    "As listed above, the following data sources will needed to be generated the required information:\n",
    "- The location and coordinates of each neighorhoods in London, Ontario will be scraped from **[webage](http://www.geonames.org/postalcode-search.html?q=london&country=CA&adminCode1=ON&fbclid=IwAR2XipWkuSm3F9YSjjVvFqp7SfYCPl9_XaxiehoPnn-7XmsjtnJBrbKh31g)** by using **Pandas function/ BeautifulSoup**.\n",
    "- The number of venues and its categories within each neighborhoods are extracted by using **FourSquare API**.\n",
    "- **The extracted venue categories** can be **used as a separated dataset** to build the **recommender system** for the suggestion of business patterns.   "
   ]
  },
  {
   "cell_type": "code",
   "execution_count": null,
   "metadata": {},
   "outputs": [],
   "source": []
  }
 ],
 "metadata": {
  "kernelspec": {
   "display_name": "Python 3",
   "language": "python",
   "name": "python3"
  },
  "language_info": {
   "codemirror_mode": {
    "name": "ipython",
    "version": 3
   },
   "file_extension": ".py",
   "mimetype": "text/x-python",
   "name": "python",
   "nbconvert_exporter": "python",
   "pygments_lexer": "ipython3",
   "version": "3.9.1"
  }
 },
 "nbformat": 4,
 "nbformat_minor": 4
}
